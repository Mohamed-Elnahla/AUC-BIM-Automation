{
 "cells": [
  {
   "cell_type": "markdown",
   "metadata": {},
   "source": [
    "# Python Numbers"
   ]
  },
  {
   "cell_type": "code",
   "execution_count": 1,
   "metadata": {},
   "outputs": [],
   "source": [
    "# YOU DON'T NEED TO UNDERSTAND THIS PART NOW\n",
    "from Helper import *"
   ]
  },
  {
   "cell_type": "markdown",
   "metadata": {},
   "source": [
    "# There are three numeric types in Python:\n"
   ]
  },
  {
   "cell_type": "code",
   "execution_count": 2,
   "metadata": {},
   "outputs": [
    {
     "name": "stdout",
     "output_type": "stream",
     "text": [
      "1\n",
      "<class 'int'>\n"
     ]
    }
   ],
   "source": [
    "x = 1    # int\n",
    "VariableAndType(x)"
   ]
  },
  {
   "cell_type": "code",
   "execution_count": 3,
   "metadata": {},
   "outputs": [
    {
     "name": "stdout",
     "output_type": "stream",
     "text": [
      "2.8\n",
      "<class 'float'>\n"
     ]
    }
   ],
   "source": [
    "y = 2.8  # float\n",
    "VariableAndType(y)"
   ]
  },
  {
   "cell_type": "code",
   "execution_count": 4,
   "metadata": {},
   "outputs": [
    {
     "name": "stdout",
     "output_type": "stream",
     "text": [
      "1j\n",
      "<class 'complex'>\n"
     ]
    }
   ],
   "source": [
    "z = 1j   # complex\n",
    "VariableAndType(z)"
   ]
  },
  {
   "cell_type": "markdown",
   "metadata": {},
   "source": [
    "# Type Conversion"
   ]
  },
  {
   "cell_type": "code",
   "execution_count": 5,
   "metadata": {},
   "outputs": [
    {
     "name": "stdout",
     "output_type": "stream",
     "text": [
      "before\n",
      "1\n",
      "<class 'int'>\n",
      "After\n",
      "1.0\n",
      "<class 'float'>\n"
     ]
    }
   ],
   "source": [
    "\n",
    "#convert from int to float:\n",
    "a = float(x)\n",
    "print (\"Before\")\n",
    "VariableAndType(x)\n",
    "print(\"After\")\n",
    "VariableAndType(a)"
   ]
  },
  {
   "cell_type": "code",
   "execution_count": 6,
   "metadata": {},
   "outputs": [
    {
     "name": "stdout",
     "output_type": "stream",
     "text": [
      "before\n",
      "2.8\n",
      "<class 'float'>\n",
      "After\n",
      "2\n",
      "<class 'int'>\n"
     ]
    }
   ],
   "source": [
    "#convert from float to int:\n",
    "b = int(y)\n",
    "print (\"Before\")\n",
    "VariableAndType(y)\n",
    "print(\"After\")\n",
    "VariableAndType(b)"
   ]
  },
  {
   "cell_type": "code",
   "execution_count": 7,
   "metadata": {},
   "outputs": [
    {
     "name": "stdout",
     "output_type": "stream",
     "text": [
      "before\n",
      "1\n",
      "<class 'int'>\n",
      "After\n",
      "(1+0j)\n",
      "<class 'complex'>\n"
     ]
    }
   ],
   "source": [
    "#convert from int to complex:\n",
    "c = complex(x)\n",
    "print (\"Before\")\n",
    "VariableAndType(x)\n",
    "print(\"After\")\n",
    "VariableAndType(c)"
   ]
  },
  {
   "cell_type": "markdown",
   "metadata": {},
   "source": [
    "# Random Number"
   ]
  },
  {
   "cell_type": "code",
   "execution_count": 13,
   "metadata": {},
   "outputs": [
    {
     "name": "stdout",
     "output_type": "stream",
     "text": [
      "2\n"
     ]
    }
   ],
   "source": [
    "import random\n",
    "\n",
    "print(random.randrange(1, 10))"
   ]
  }
 ],
 "metadata": {
  "kernelspec": {
   "display_name": "Python 3",
   "language": "python",
   "name": "python3"
  },
  "language_info": {
   "codemirror_mode": {
    "name": "ipython",
    "version": 3
   },
   "file_extension": ".py",
   "mimetype": "text/x-python",
   "name": "python",
   "nbconvert_exporter": "python",
   "pygments_lexer": "ipython3",
   "version": "3.11.3"
  }
 },
 "nbformat": 4,
 "nbformat_minor": 2
}

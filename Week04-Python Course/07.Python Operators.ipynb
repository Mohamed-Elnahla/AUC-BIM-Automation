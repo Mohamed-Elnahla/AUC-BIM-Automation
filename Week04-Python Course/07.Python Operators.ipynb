{
 "cells": [
  {
   "cell_type": "markdown",
   "metadata": {},
   "source": [
    "# Python Operators"
   ]
  },
  {
   "cell_type": "markdown",
   "metadata": {},
   "source": [
    "Python divides the operators in the following groups:\n",
    "\n",
    "* Arithmetic operators\n",
    "* Assignment operators\n",
    "* Comparison operators\n",
    "* Logical operators\n",
    "* Identity operators\n",
    "* Membership operators\n",
    "* Bitwise operators"
   ]
  },
  {
   "cell_type": "markdown",
   "metadata": {},
   "source": [
    "## Arithmetic operators"
   ]
  },
  {
   "cell_type": "code",
   "execution_count": 1,
   "metadata": {},
   "outputs": [
    {
     "name": "stdout",
     "output_type": "stream",
     "text": [
      "Addition: 15\n",
      "Subtraction: 5\n",
      "Multiplication: 50\n",
      "Division: 2.0\n",
      "Modulus: 0\n",
      "Exponentiation: 100000\n",
      "Floor division: 2\n"
     ]
    }
   ],
   "source": [
    "# Define variables x and y\n",
    "x = 10\n",
    "y = 5\n",
    "\n",
    "# Addition: x + y\n",
    "print(\"Addition:\", x + y)  # Output: 15\n",
    "\n",
    "# Subtraction: x - y\n",
    "print(\"Subtraction:\", x - y)  # Output: 5\n",
    "\n",
    "# Multiplication: x * y\n",
    "print(\"Multiplication:\", x * y)  # Output: 50\n",
    "\n",
    "# Division: x / y\n",
    "print(\"Division:\", x / y)  # Output: 2.0\n",
    "\n",
    "# Modulus: x % y\n",
    "print(\"Modulus:\", x % y)  # Output: 0\n",
    "\n",
    "# Exponentiation: x ** y\n",
    "print(\"Exponentiation:\", x ** y)  # Output: 100000\n",
    "\n",
    "# Floor division: x // y\n",
    "print(\"Floor division:\", x // y)  # Output: 2\n"
   ]
  },
  {
   "cell_type": "code",
   "execution_count": 3,
   "metadata": {},
   "outputs": [
    {
     "name": "stdout",
     "output_type": "stream",
     "text": [
      "42.0\n"
     ]
    }
   ],
   "source": [
    "print(((2050/5)-32)/9) #42.0"
   ]
  },
  {
   "cell_type": "markdown",
   "metadata": {},
   "source": [
    "## Python Assignment Operators\n"
   ]
  },
  {
   "cell_type": "code",
   "execution_count": 2,
   "metadata": {},
   "outputs": [
    {
     "name": "stdout",
     "output_type": "stream",
     "text": [
      "Assignment: 5\n",
      "Addition assignment: 8\n",
      "Subtraction assignment: 5\n",
      "Multiplication assignment: 15\n",
      "Division assignment: 5.0\n",
      "Modulus assignment: 2\n",
      "Floor division assignment: 3\n",
      "Exponentiation assignment: 8\n"
     ]
    }
   ],
   "source": [
    "# Assignment operator\n",
    "x = 5\n",
    "print(\"Assignment:\", x)  # Output: 5\n",
    "\n",
    "# Addition assignment operator\n",
    "x += 3\n",
    "print(\"Addition assignment:\", x)  # Output: 8\n",
    "\n",
    "# Subtraction assignment operator\n",
    "x -= 3\n",
    "print(\"Subtraction assignment:\", x)  # Output: 5\n",
    "\n",
    "# Multiplication assignment operator\n",
    "x *= 3\n",
    "print(\"Multiplication assignment:\", x)  # Output: 15\n",
    "\n",
    "# Division assignment operator\n",
    "x /= 3\n",
    "print(\"Division assignment:\", x)  # Output: 5.0\n",
    "\n",
    "# Modulus assignment operator\n",
    "x = 8  # Reset x to 8 for modulus example\n",
    "x %= 3\n",
    "print(\"Modulus assignment:\", x)  # Output: 2\n",
    "\n",
    "# Floor division assignment operator\n",
    "x = 10  # Reset x to 10 for floor division example\n",
    "x //= 3\n",
    "print(\"Floor division assignment:\", x)  # Output: 3\n",
    "\n",
    "# Exponentiation assignment operator\n",
    "x = 2  # Reset x to 2 for exponentiation example\n",
    "x **= 3\n",
    "print(\"Exponentiation assignment:\", x)  # Output: 8\n"
   ]
  },
  {
   "cell_type": "markdown",
   "metadata": {},
   "source": [
    "## Python Comparison Operators"
   ]
  },
  {
   "cell_type": "code",
   "execution_count": 4,
   "metadata": {},
   "outputs": [
    {
     "name": "stdout",
     "output_type": "stream",
     "text": [
      "Equal: False\n",
      "Not equal: True\n",
      "Greater than: True\n",
      "Less than: False\n",
      "Greater than or equal to: True\n",
      "Less than or equal to: False\n"
     ]
    }
   ],
   "source": [
    "# Define variables x and y\n",
    "x = 10\n",
    "y = 5\n",
    "\n",
    "# Equal: x == y\n",
    "print(\"Equal:\", x == y)  # Output: False\n",
    "\n",
    "# Not equal: x != y\n",
    "print(\"Not equal:\", x != y)  # Output: True\n",
    "\n",
    "# Greater than: x > y\n",
    "print(\"Greater than:\", x > y)  # Output: True\n",
    "\n",
    "# Less than: x < y\n",
    "print(\"Less than:\", x < y)  # Output: False\n",
    "\n",
    "# Greater than or equal to: x >= y\n",
    "print(\"Greater than or equal to:\", x >= y)  # Output: True\n",
    "\n",
    "# Less than or equal to: x <= y\n",
    "print(\"Less than or equal to:\", x <= y)  # Output: False\n"
   ]
  },
  {
   "cell_type": "markdown",
   "metadata": {},
   "source": [
    "## Python Logical Operators"
   ]
  },
  {
   "cell_type": "code",
   "execution_count": null,
   "metadata": {},
   "outputs": [],
   "source": [
    "# Define variable x\n",
    "x = 3\n",
    "\n",
    "# 'and' operator: Returns True if both statements are true\n",
    "print(\"'and' operator:\", x < 5 and x < 10)  # Output: True\n",
    "\n",
    "# 'or' operator: Returns True if one of the statements is true\n",
    "print(\"'or' operator:\", x < 5 or x < 4)  # Output: True\n",
    "\n",
    "# 'not' operator: Reverse the result, returns False if the result is true\n",
    "print(\"'not' operator:\", not(x < 5 and x < 10))  # Output: False\n"
   ]
  },
  {
   "cell_type": "markdown",
   "metadata": {},
   "source": [
    "## Python Identity Operators"
   ]
  },
  {
   "cell_type": "code",
   "execution_count": 6,
   "metadata": {},
   "outputs": [
    {
     "name": "stdout",
     "output_type": "stream",
     "text": [
      "'is' operator: True\n",
      "'is' operator with different objects: False\n",
      "'is not' operator: True\n",
      "'is not' operator with identical objects: False\n",
      "is' operator: with Type True\n"
     ]
    }
   ],
   "source": [
    "# Define variables x and y\n",
    "x = ['apple', 'banana']\n",
    "y = ['apple', 'banana']\n",
    "z = x\n",
    "a = 10\n",
    "\n",
    "# 'is' operator: Returns True if both variables are the same object\n",
    "print(\"'is' operator:\", x is z)  # Output: True\n",
    "print(\"'is' operator with different objects:\", x is y)  # Output: False\n",
    "\n",
    "# 'is not' operator: Returns True if both variables are not the same object\n",
    "print(\"'is not' operator:\", x is not y)  # Output: True\n",
    "print(\"'is not' operator with identical objects:\", x is not z)  # Output: False\n",
    "\n",
    "print (\"is' operator: with Type\",type(a) is int) #True"
   ]
  },
  {
   "cell_type": "markdown",
   "metadata": {},
   "source": [
    "## Python Membership Operators"
   ]
  },
  {
   "cell_type": "code",
   "execution_count": 7,
   "metadata": {},
   "outputs": [
    {
     "name": "stdout",
     "output_type": "stream",
     "text": [
      "'in' operator: True\n",
      "'not in' operator: False\n"
     ]
    }
   ],
   "source": [
    "# Define variables x and y\n",
    "x = 'apple'\n",
    "y = ['apple', 'banana']\n",
    "\n",
    "# 'in' operator: Returns True if a sequence with the specified value is present in the object\n",
    "print(\"'in' operator:\", x in y)  # Output: True\n",
    "\n",
    "# 'not in' operator: Returns True if a sequence with the specified value is not present in the object\n",
    "print(\"'not in' operator:\", x not in y)  # Output: False\n"
   ]
  }
 ],
 "metadata": {
  "kernelspec": {
   "display_name": "Python 3",
   "language": "python",
   "name": "python3"
  },
  "language_info": {
   "codemirror_mode": {
    "name": "ipython",
    "version": 3
   },
   "file_extension": ".py",
   "mimetype": "text/x-python",
   "name": "python",
   "nbconvert_exporter": "python",
   "pygments_lexer": "ipython3",
   "version": "3.11.3"
  }
 },
 "nbformat": 4,
 "nbformat_minor": 2
}

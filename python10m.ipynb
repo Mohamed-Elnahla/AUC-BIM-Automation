{
 "cells": [
  {
   "cell_type": "markdown",
   "metadata": {},
   "source": [
    "# Python Basics and User Interaction Tutorial\n",
    "\n",
    "This notebook introduces you to the fundamentals of Python, including:\n",
    "\n",
    "- **Data Types & Syntax:** Strings, Numbers, and Lists\n",
    "- **Control Structures:** Loops and Conditions\n",
    "- **User Interaction:** Printing messages, getting user input, and building a simple calculator\n",
    "\n",
    "Each section contains an example and an exercise with a TODO comment to help you complete the task."
   ]
  },
  {
   "cell_type": "markdown",
   "metadata": {},
   "source": [
    "## 1. Python Syntax and Data Types\n",
    "\n",
    "Python is known for its easy-to-read syntax. In this section, we'll cover some basic data types and operations."
   ]
  },
  {
   "cell_type": "markdown",
   "metadata": {},
   "source": [
    "### a) Strings and User Interaction\n",
    "\n",
    "Strings are sequences of characters. They are used to store text, print messages, and interact with users. In the example below, we print a greeting and then ask the user for their name."
   ]
  },
  {
   "cell_type": "code",
   "execution_count": null,
   "metadata": {},
   "outputs": [],
   "source": [
    "# Example: Print a greeting and get user input\n",
    "print(\"Hello, world!\")\n",
    "\n",
    "# Get the user's name and greet them\n",
    "name = input(\"Enter your name: \")\n",
    "print(\"Hello, \" + name + \"!\")"
   ]
  },
  {
   "cell_type": "markdown",
   "metadata": {},
   "source": [
    "**Exercise:**\n",
    "\n",
    "1. Create a string variable with your name.\n",
    "2. Ask the user for their favorite color.\n",
    "3. Print a custom greeting that says: `Hello, [YourName]! Your favorite color is [Color].`"
   ]
  },
  {
   "cell_type": "code",
   "execution_count": null,
   "metadata": {},
   "outputs": [],
   "source": [
    "# TODO: Create variables for your name and favorite color, then print a greeting message\n"
   ]
  },
  {
   "cell_type": "markdown",
   "metadata": {},
   "source": [
    "### b) Numbers and a Simple Calculator\n",
    "\n",
    "Python can perform arithmetic operations using numbers. In this example, we demonstrate basic arithmetic and build a simple calculator that adds two numbers."
   ]
  },
  {
   "cell_type": "code",
   "execution_count": null,
   "metadata": {},
   "outputs": [],
   "source": [
    "# Example: Basic arithmetic operations\n",
    "a = 10\n",
    "b = 3\n",
    "print(\"Addition:\", a + b)\n",
    "print(\"Subtraction:\", a - b)\n",
    "print(\"Multiplication:\", a * b)\n",
    "print(\"Division:\", a / b)\n",
    "\n",
    "# Example: Simple Calculator for Addition\n",
    "num1 = float(input(\"Enter the first number: \"))\n",
    "num2 = float(input(\"Enter the second number: \"))\n",
    "sum_result = num1 + num2\n",
    "print(\"The sum is:\", sum_result)"
   ]
  },
  {
   "cell_type": "markdown",
   "metadata": {},
   "source": [
    "**Exercise:**\n",
    "\n",
    "Extend the calculator example to perform subtraction, multiplication, and division. Follow these steps:\n",
    "\n",
    "1. Ask the user for two numbers.\n",
    "2. Ask which operation to perform (`+`, `-`, `*`, or `/`).\n",
    "3. Display the result of the operation."
   ]
  },
  {
   "cell_type": "code",
   "execution_count": null,
   "metadata": {},
   "outputs": [],
   "source": [
    "# TODO: Extend the calculator to support -, *, and /\n"
   ]
  },
  {
   "cell_type": "markdown",
   "metadata": {},
   "source": [
    "### c) Lists\n",
    "\n",
    "Lists are ordered collections of items. They can hold elements of different types, such as strings or numbers. In the example below, we work with a list of fruits."
   ]
  },
  {
   "cell_type": "code",
   "execution_count": null,
   "metadata": {},
   "outputs": [],
   "source": [
    "# Example: Working with Lists\n",
    "fruits = [\"apple\", \"banana\", \"cherry\"]\n",
    "print(\"Fruits list:\", fruits)\n",
    "\n",
    "# Access and print the first fruit\n",
    "print(\"First fruit:\", fruits[0])\n",
    "\n",
    "# Iterate over the list and print each fruit\n",
    "for fruit in fruits:\n",
    "    print(\"I like\", fruit)"
   ]
  },
  {
   "cell_type": "markdown",
   "metadata": {},
   "source": [
    "**Exercise:**\n",
    "\n",
    "Create a list of your favorite fruits and print each fruit on a separate line."
   ]
  },
  {
   "cell_type": "code",
   "execution_count": null,
   "metadata": {},
   "outputs": [],
   "source": [
    "# TODO: Create a list of your favorite fruits and print each one\n"
   ]
  },
  {
   "cell_type": "markdown",
   "metadata": {},
   "source": [
    "## 2. Control Structures\n",
    "\n",
    "Control structures allow you to execute code conditionally or repeatedly. In this section, we cover loops and conditions."
   ]
  },
  {
   "cell_type": "markdown",
   "metadata": {},
   "source": [
    "### a) Loops\n",
    "\n",
    "Loops allow you to execute a block of code multiple times. The `for` loop is used to iterate over sequences such as lists or ranges."
   ]
  },
  {
   "cell_type": "code",
   "execution_count": null,
   "metadata": {},
   "outputs": [],
   "source": [
    "# Example: Using a for loop to print numbers from 1 to 5\n",
    "for i in range(1, 6):\n",
    "    print(\"Number:\", i)"
   ]
  },
  {
   "cell_type": "markdown",
   "metadata": {},
   "source": [
    "**Exercise:**\n",
    "\n",
    "Write a loop that prints the numbers from 1 to 10."
   ]
  },
  {
   "cell_type": "code",
   "execution_count": null,
   "metadata": {},
   "outputs": [],
   "source": [
    "# TODO: Write a loop that prints the numbers from 1 to 10\n"
   ]
  },
  {
   "cell_type": "markdown",
   "metadata": {},
   "source": [
    "### b) Conditions\n",
    "\n",
    "Conditional statements allow your program to take different actions based on certain conditions. The `if-else` statement is commonly used to implement this."
   ]
  },
  {
   "cell_type": "code",
   "execution_count": null,
   "metadata": {},
   "outputs": [],
   "source": [
    "# Example: Using if-else to check if a number is even or odd\n",
    "number = 7\n",
    "if number % 2 == 0:\n",
    "    print(number, \"is even\")\n",
    "else:\n",
    "    print(number, \"is odd\")"
   ]
  },
  {
   "cell_type": "markdown",
   "metadata": {},
   "source": [
    "**Exercise:**\n",
    "\n",
    "Write a program that checks if a number (choose any value) is greater than 10. If it is, print \"Greater than 10\"; otherwise, print \"10 or less\"."
   ]
  },
  {
   "cell_type": "code",
   "execution_count": null,
   "metadata": {},
   "outputs": [],
   "source": [
    "# TODO: Write a program that checks if a number is greater than 10\n"
   ]
  }
 ],
 "metadata": {
  "kernelspec": {
   "display_name": "Python 3",
   "language": "python",
   "name": "python3"
  },
  "language_info": {
   "name": "python",
   "version": "3.x"
  }
 },
 "nbformat": 4,
 "nbformat_minor": 4
}
